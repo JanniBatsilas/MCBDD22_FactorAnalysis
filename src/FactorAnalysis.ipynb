{
 "cells": [
  {
   "cell_type": "markdown",
   "id": "64718934",
   "metadata": {},
   "source": [
    "\n",
    "# Factor analysis"
   ]
  },
  {
   "cell_type": "markdown",
   "id": "7e21e901",
   "metadata": {},
   "source": [
    "The basic idea behind factor analysis is to find for so called factors (or simply variables) that explain the the relationship of observed variables (The set of factors is smaller than the set of observed variables).\n",
    "\n",
    "## What are the relationships between covariance matrix, factor analysis, and principal component analysis (PCA)?\n",
    "\n",
    "First, lets have a look on what these things are:\n",
    "\n",
    "### What is a covarianvce matrix?\n",
    "\n",
    "A covariance matrix $\\Sigma$, is a matrix that... :\n",
    "\n",
    " * is square\n",
    " * is symmetric \n",
    " * is positive semi-definite ($z^{T} M z > 0 \\quad \\forall \\quad $ nonzero column vectors  $\\quad$  $z$)\n",
    " * holds information about the covariance of each pair of elements (\"variance to multiple dimensions\")\n",
    " \n",
    "The unibased estimator of the covariance matrix given a sample is: $\\quad \\Sigma = E \\Big[ (X-E[X])(X-E[X])^T \\Big]$\n",
    "\n",
    "\n",
    "\n",
    "\n",
    "### What is PCA?\n",
    "\n",
    "The principal component analysis is the process of calculating the principal components of a set of Datapoints. The principal components (sequence of unit vectors) are then used to reduce the dimensionality, or in mathematical language: perform a change of basis. The principal components point into the direction that describe our underlying data best (explain most of the variance).\n",
    "\n",
    "One of the key components of the PCA is the covariance matrix of the dataset $X$, calculated with $X^TX$ ($X$ is centered)\n",
    "\n",
    "Our main goal in the end is to map our datapoints to a new space in which they are uncorrelated. For the Transformation we keep only the first $n$ Eigenvectors of $X^TX$ (ordernt in descending magnitude):\n",
    "\n",
    "$T_n = XW_n$\n",
    "\n",
    "W is a suqare matrix which contains the first $n$ eigenvectors (columns) of $X^TX$. \n",
    "\n",
    "If we calculate $w_i * \\sqrt{eigen_i}$, hence we multiply column $i$ with the squareroot of the corresponding eigenvalue (e.g. the variance), we end up with so called **loadings** (Not only in PCA, but also in factor analysis). Loadings can therefore be compared according their magnitude (covariance between variables). loadings are the covariances between the original variables and the unit-scaled components. The Eigenvetor itself is just a coefficient of a orthogonal transformation. If we now \"load\" the coefficient by the amount of variance, we get a measure of co-variablility.\n",
    "\n",
    "\n",
    " \n",
    "### What is factor analysis?\n",
    "\n",
    "First again the same description as above: \\\n",
    "The basic idea behind factor analysis is to find for so called factors (or simply variables) that explain the the relationship of observed variables (The set of factors is smaller than the set of observed variables). We my observe 10 variables but can reflect their variation in 3 unobserved \"latent\" variables. \\\n",
    "\n",
    "##### Why is this useful? \n",
    "If we find dependencies between observed variables we can use our gained knowledge to reduce the amount of variables.\n",
    "\n",
    "##### What are the differences between PCA and FA?\n",
    "\n",
    "Firstly, both approaches aim to reduce dimensionality but Factor Analysis explicitly assumes the existence of latent factors underlying the observed data. PCA instead seeks to identify variables that are composites of the observed variables. Other than PCA, FA also considers linear combinations of the variables. With FA we want to explain the off-diagonal terms of the correlation matrix, whereas PCA focuses on the terms on the diagonals.\n",
    "\n",
    "\n",
    "PCA has an analytic solution, whereas FA does not. FA needs to be numerically fit. The PCA solution does not depend on k: With the calculation of the first three PCs (k=3) , the first two of those are going to be identical to the ones found if initially $k$ was set to k=2. That is not true for FA: the solution for k=2 is not (necessarily) subset of the solution for k=3.\n",
    "\n",
    "##### Why are factors  orthogonal to each other? What’s the consequence?\n",
    "\n",
    "Orthogonal means in this sense uncorrelated, which means in our case, the factors have a \"good quality\". Most times factors are not completely uncorrelated. Forcing them to be makes it less likely that the rotation finds a solution with simple structure.\n",
    "(Rotation: make axis $n+1$ orthogonal to axis $n$ with the constraint that the explained variance is maximized)\n",
    "\n",
    "#####  Why can factor analysis  be used as a generative model?\n",
    "Yes it can be used as generative model because we can invert the process: $X_{p\\times n}-M_{p\\times n}=L_{p\\times k}F_{k\\times n}+\\epsilon$\n",
    "\n",
    "#####   What is the relationship between factor analysis and autoencoder?\n",
    "A Factor Analysis maps some observed variables to a certain number of Factors. The connection between the observed variables (Input layer) and the Factors (hidden Nodes) which describe them best can be interpreted as a layer in a autoencoder. \n",
    "\n",
    "#####   How would you explain factor analysis to yourself half year ago?\n",
    "\n",
    "If it was half a year back, I'd have watched a Youtube video first and then looked for a blog that describes the calculations step by step with a toy example. I did the same now, but creating this notebook definitly helped me to make the study efforts more persistent."
   ]
  },
  {
   "cell_type": "markdown",
   "id": "02e0165d",
   "metadata": {},
   "source": [
    "## Factor Analysis: Code example"
   ]
  },
  {
   "cell_type": "code",
   "execution_count": 5,
   "id": "c7e40471",
   "metadata": {},
   "outputs": [
    {
     "data": {
      "text/html": [
       "<div>\n",
       "<style scoped>\n",
       "    .dataframe tbody tr th:only-of-type {\n",
       "        vertical-align: middle;\n",
       "    }\n",
       "\n",
       "    .dataframe tbody tr th {\n",
       "        vertical-align: top;\n",
       "    }\n",
       "\n",
       "    .dataframe thead th {\n",
       "        text-align: right;\n",
       "    }\n",
       "</style>\n",
       "<table border=\"1\" class=\"dataframe\">\n",
       "  <thead>\n",
       "    <tr style=\"text-align: right;\">\n",
       "      <th></th>\n",
       "      <th>Sunshine hours(City)</th>\n",
       "      <th>Cost of a bottle of water(City)</th>\n",
       "      <th>Obesity levels(Country)</th>\n",
       "      <th>Life expectancy(years) (Country)</th>\n",
       "      <th>Pollution(Index score) (City)</th>\n",
       "      <th>Annual avg. hours worked</th>\n",
       "      <th>Happiness levels(Country)</th>\n",
       "      <th>Outdoor activities(City)</th>\n",
       "      <th>Number of take out places(City)</th>\n",
       "      <th>Cost of a monthly gym membership(City)</th>\n",
       "    </tr>\n",
       "  </thead>\n",
       "  <tbody>\n",
       "    <tr>\n",
       "      <th>0</th>\n",
       "      <td>1858</td>\n",
       "      <td>1.92</td>\n",
       "      <td>0.204</td>\n",
       "      <td>81.2</td>\n",
       "      <td>30.93</td>\n",
       "      <td>1434</td>\n",
       "      <td>7.44</td>\n",
       "      <td>422</td>\n",
       "      <td>1048</td>\n",
       "      <td>34.90</td>\n",
       "    </tr>\n",
       "    <tr>\n",
       "      <th>1</th>\n",
       "      <td>2636</td>\n",
       "      <td>1.48</td>\n",
       "      <td>0.290</td>\n",
       "      <td>82.1</td>\n",
       "      <td>26.86</td>\n",
       "      <td>1712</td>\n",
       "      <td>7.22</td>\n",
       "      <td>406</td>\n",
       "      <td>1103</td>\n",
       "      <td>41.66</td>\n",
       "    </tr>\n",
       "    <tr>\n",
       "      <th>2</th>\n",
       "      <td>1884</td>\n",
       "      <td>1.94</td>\n",
       "      <td>0.201</td>\n",
       "      <td>81.0</td>\n",
       "      <td>17.33</td>\n",
       "      <td>1501</td>\n",
       "      <td>7.29</td>\n",
       "      <td>132</td>\n",
       "      <td>1008</td>\n",
       "      <td>25.74</td>\n",
       "    </tr>\n",
       "    <tr>\n",
       "      <th>3</th>\n",
       "      <td>1821</td>\n",
       "      <td>1.72</td>\n",
       "      <td>0.206</td>\n",
       "      <td>81.8</td>\n",
       "      <td>19.63</td>\n",
       "      <td>1452</td>\n",
       "      <td>7.35</td>\n",
       "      <td>129</td>\n",
       "      <td>598</td>\n",
       "      <td>37.31</td>\n",
       "    </tr>\n",
       "    <tr>\n",
       "      <th>4</th>\n",
       "      <td>1630</td>\n",
       "      <td>2.19</td>\n",
       "      <td>0.197</td>\n",
       "      <td>79.8</td>\n",
       "      <td>21.24</td>\n",
       "      <td>1380</td>\n",
       "      <td>7.64</td>\n",
       "      <td>154</td>\n",
       "      <td>523</td>\n",
       "      <td>32.53</td>\n",
       "    </tr>\n",
       "  </tbody>\n",
       "</table>\n",
       "</div>"
      ],
      "text/plain": [
       "   Sunshine hours(City)  Cost of a bottle of water(City)  \\\n",
       "0                  1858                             1.92   \n",
       "1                  2636                             1.48   \n",
       "2                  1884                             1.94   \n",
       "3                  1821                             1.72   \n",
       "4                  1630                             2.19   \n",
       "\n",
       "   Obesity levels(Country)  Life expectancy(years) (Country)  \\\n",
       "0                    0.204                              81.2   \n",
       "1                    0.290                              82.1   \n",
       "2                    0.201                              81.0   \n",
       "3                    0.206                              81.8   \n",
       "4                    0.197                              79.8   \n",
       "\n",
       "  Pollution(Index score) (City) Annual avg. hours worked  \\\n",
       "0                         30.93                     1434   \n",
       "1                         26.86                     1712   \n",
       "2                         17.33                     1501   \n",
       "3                         19.63                     1452   \n",
       "4                         21.24                     1380   \n",
       "\n",
       "   Happiness levels(Country)  Outdoor activities(City)  \\\n",
       "0                       7.44                       422   \n",
       "1                       7.22                       406   \n",
       "2                       7.29                       132   \n",
       "3                       7.35                       129   \n",
       "4                       7.64                       154   \n",
       "\n",
       "   Number of take out places(City)  Cost of a monthly gym membership(City)  \n",
       "0                             1048                                   34.90  \n",
       "1                             1103                                   41.66  \n",
       "2                             1008                                   25.74  \n",
       "3                              598                                   37.31  \n",
       "4                              523                                   32.53  "
      ]
     },
     "execution_count": 5,
     "metadata": {},
     "output_type": "execute_result"
    }
   ],
   "source": [
    "import pandas as pd\n",
    "import sklearn.datasets\n",
    "from factor_analyzer import FactorAnalyzer \n",
    "import matplotlib.pyplot as plt \n",
    "\n",
    "# Healthy Lifestyle dataframe from Kaggle\n",
    "cities = pd.read_csv(\"healthy_lifestyle_city_2021.csv\")\n",
    "\n",
    "# Clean the dataframe\n",
    "cities['Cost of a bottle of water(City)'] = cities['Cost of a bottle of water(City)'].str[1:]\n",
    "cities['Cost of a bottle of water(City)'] = cities['Cost of a bottle of water(City)'].astype(float)\n",
    "cities['Sunshine hours(City)'] = cities['Sunshine hours(City)'].replace(['-'],'0')\n",
    "cities[\"Sunshine hours(City)\"] = cities[\"Sunshine hours(City)\"].apply(pd.to_numeric)\n",
    "cities['Cost of a monthly gym membership(City)'] = cities['Cost of a monthly gym membership(City)'].str[1:]\n",
    "cities['Cost of a monthly gym membership(City)'] = cities['Cost of a monthly gym membership(City)'].astype(float)\n",
    "cities['Obesity levels(Country)'] = cities['Obesity levels(Country)'].str.rstrip('%').astype('float') / 100.0\n",
    "cities.drop('City', inplace=True, axis=1)\n",
    "cities.drop('Rank', inplace=True, axis=1)\n",
    "cities = cities.drop(cities.index[cities['Pollution(Index score) (City)'] == \"-\"])\n",
    "cities = cities.drop(cities.index[cities['Annual avg. hours worked'] == \"-\"])\n",
    "\n",
    "# lets have a look at the table\n",
    "cities.head()\n",
    "# wow, this looks very good! :)\n"
   ]
  },
  {
   "cell_type": "code",
   "execution_count": 6,
   "id": "0b7a3830",
   "metadata": {},
   "outputs": [
    {
     "data": {
      "image/png": "[encoded data removed]",
      "text/plain": [
       "<Figure size 432x288 with 1 Axes>"
      ]
     },
     "metadata": {
      "needs_background": "light"
     },
     "output_type": "display_data"
    },
    {
     "name": "stdout",
     "output_type": "stream",
     "text": [
      "                                               0         1         2         3\n",
      "Sunshine hours(City)                   -0.363337  0.063127  0.521058  0.059267\n",
      "Cost of a bottle of water(City)         0.779614 -0.294915 -0.113576  0.238554\n",
      "Obesity levels(Country)                -0.000498 -0.049861  0.995546 -0.083330\n",
      "Life expectancy(years) (Country)        0.518348 -0.010175 -0.265674  0.277049\n",
      "Pollution(Index score) (City)          -0.629910  0.385041  0.111275 -0.020131\n",
      "Annual avg. hours worked               -0.889648 -0.139741  0.327827  0.278443\n",
      "Happiness levels(Country)               0.840117 -0.326740  0.150462  0.125461\n",
      "Outdoor activities(City)               -0.204761  0.648597  0.099064 -0.152503\n",
      "Number of take out places(City)        -0.096848  0.916730 -0.128170  0.143039\n",
      "Cost of a monthly gym membership(City)  0.083038 -0.008150 -0.011374  0.820626\n"
     ]
    }
   ],
   "source": [
    "# Now we do a factor analysis:\n",
    "fa = FactorAnalyzer(n_factors = 2, rotation=\"varimax\")\n",
    "fa.fit(cities)\n",
    "# That was surprisingly simple! ;)\n",
    "loadings = fa.loadings_\n",
    "eigenvalues, eigenvectors = fa.get_eigenvalues()\n",
    "\n",
    "# Lets get some graphical representation of the Eigenvalues to decide how many factors we are going to consider\n",
    "x = range(1, cities.shape[1]+1)\n",
    "plt.scatter(x, eigenvalues)\n",
    "plt.plot(x, eigenvalues)\n",
    "plt.title(\"Eigenvalues vs Factor\")\n",
    "plt.xlabel(\"Factor\")\n",
    "plt.ylabel(\"Eigenvalue\")\n",
    "plt.grid()\n",
    "plt.show()\n",
    "\n",
    "# We find 4 Eigenvalues greater than one, so we are going to consider 4 factors \n",
    "fa = FactorAnalyzer(n_factors = 4, rotation=\"varimax\")\n",
    "fa.fit(cities)\n",
    "loadings = fa.loadings_\n",
    "eigenvalues, eigenvectors = fa.get_eigenvalues()\n",
    "\n",
    "#Lets have a look at the loadings (Loadings indicate how much a factor explains a variable.)\n",
    "print(pd.DataFrame(fa.loadings_,index=cities.columns))\n",
    "\n"
   ]
  },
  {
   "cell_type": "markdown",
   "id": "09f61fec",
   "metadata": {},
   "source": [
    "We See that for example Factor Nr. 0 has large influence on  **Cost of a bottle of water(City)**  and  **Happiness levels(Country)**  \n",
    "\n",
    "We can also find out **how much variance is explained by each factor:**"
   ]
  },
  {
   "cell_type": "code",
   "execution_count": 7,
   "id": "643cb8ce",
   "metadata": {},
   "outputs": [
    {
     "name": "stdout",
     "output_type": "stream",
     "text": [
      "                         0         1         2         3\n",
      "Variance          2.960756  1.629230  1.514958  0.954941\n",
      "Proportional Var  0.296076  0.162923  0.151496  0.095494\n",
      "Cumulative Var    0.296076  0.458999  0.610494  0.705988\n"
     ]
    }
   ],
   "source": [
    "print(pd.DataFrame(fa.get_factor_variance(),index=['Variance','Proportional Var','Cumulative Var']))"
   ]
  },
  {
   "cell_type": "markdown",
   "id": "29478190",
   "metadata": {},
   "source": [
    "The **Communality** is the proportion of each variable’s variance that can be explained by the factors. Rotations do not influence  the communality of the variables:"
   ]
  },
  {
   "cell_type": "code",
   "execution_count": 8,
   "id": "c24db937",
   "metadata": {},
   "outputs": [
    {
     "name": "stdout",
     "output_type": "stream",
     "text": [
      "                                        Communalities\n",
      "Sunshine hours(City)                         0.411013\n",
      "Cost of a bottle of water(City)              0.764580\n",
      "Obesity levels(Country)                      1.000542\n",
      "Life expectancy(years) (Country)             0.416127\n",
      "Pollution(Index score) (City)                0.557831\n",
      "Annual avg. hours worked                     0.996002\n",
      "Happiness levels(Country)                    0.850935\n",
      "Outdoor activities(City)                     0.495675\n",
      "Number of take out places(City)              0.886661\n",
      "Cost of a monthly gym membership(City)       0.680518\n"
     ]
    }
   ],
   "source": [
    "print(pd.DataFrame(fa.get_communalities(),index=cities.columns,columns=['Communalities']))"
   ]
  },
  {
   "cell_type": "markdown",
   "id": "2cdc5cb7",
   "metadata": {},
   "source": [
    "\n",
    "\n",
    "\n",
    "\n",
    "Sources:\n",
    "\n",
    "[1] https://www.displayr.com/factor-analysis-and-principal-component-analysis-a-simple-explanation/\n",
    "\n",
    "[2] https://stats.stackexchange.com/questions/143905/loadings-vs-eigenvectors-in-pca-when-to-use-one-or-another\n",
    "\n",
    "[3] https://stats.stackexchange.com/questions/123063/is-there-any-good-reason-to-use-pca-instead-of-efa-also-can-pca-be-a-substitut\n",
    "\n",
    "[4] https://en.wikipedia.org/wiki/Factor_analysis\n",
    "\n",
    "[5] https://en.wikipedia.org/wiki/Principal_component_analysis\n",
    "\n",
    "[6] https://en.wikipedia.org/wiki/Covariance"
   ]
  },
  {
   "cell_type": "code",
   "execution_count": null,
   "id": "74eee7bf",
   "metadata": {},
   "outputs": [],
   "source": []
  }
 ],
 "metadata": {
  "kernelspec": {
   "display_name": "Python 3 (ipykernel)",
   "language": "python",
   "name": "python3"
  },
  "language_info": {
   "codemirror_mode": {
    "name": "ipython",
    "version": 3
   },
   "file_extension": ".py",
   "mimetype": "text/x-python",
   "name": "python",
   "nbconvert_exporter": "python",
   "pygments_lexer": "ipython3",
   "version": "3.9.4"
  }
 },
 "nbformat": 4,
 "nbformat_minor": 5
}
